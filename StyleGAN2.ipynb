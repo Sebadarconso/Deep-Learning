{
  "cells": [
    {
      "cell_type": "markdown",
      "metadata": {
        "id": "EPE98Y9VuOVp"
      },
      "source": [
        "# Setup\n",
        "\n"
      ]
    },
    {
      "cell_type": "code",
      "execution_count": null,
      "metadata": {
        "id": "eolAOoGiuQ_z",
        "colab": {
          "base_uri": "https://localhost:8080/"
        },
        "outputId": "4c5e6e8d-9bcd-4b6c-db87-7d7b00726d40"
      },
      "outputs": [
        {
          "output_type": "stream",
          "name": "stdout",
          "text": [
            "Drive already mounted at /content/drive; to attempt to forcibly remount, call drive.mount(\"/content/drive\", force_remount=True).\n"
          ]
        }
      ],
      "source": [
        "from google.colab import drive\n",
        "drive.mount('/content/drive')"
      ]
    },
    {
      "cell_type": "code",
      "execution_count": null,
      "metadata": {
        "id": "i6g_ByiBu3wT"
      },
      "outputs": [],
      "source": [
        "!pip install gdown --upgrade\n",
        "%cd /content/drive/MyDrive\n",
        "!mkdir colab-stylegan2\n",
        "\n",
        "%cd colab-stylegan2\n",
        "!git clone https://github.com/NVlabs/stylegan2-ada-pytorch.git\n",
        "\n",
        "%cd stylegan2-ada-pytorch\n",
        "!mkdir dataset\n",
        "!mkdir dataset_final\n",
        "!mkdir visuelle_ds\n",
        "!mkdir output\n",
        "!mkdir pretrained \n",
        "!mkdir projected\n",
        "!mkdir style_mixing\n",
        "!mkdir generated"
      ]
    },
    {
      "cell_type": "code",
      "source": [
        "%cd /content/drive/MyDrive/colab-stylegan2/stylegan2-ada-pytorch\n",
        "!mkdir test\n",
        "%cd test\n",
        "!mkdir projected\n",
        "!mkdir generated \n",
        "!mkdir style_mixing"
      ],
      "metadata": {
        "id": "8UoBcbQut48_"
      },
      "execution_count": null,
      "outputs": []
    },
    {
      "cell_type": "code",
      "source": [
        "%cd /content/drive/MyDrive/colab-stylegan2/stylegan2-ada-pytorch\n",
        "!mkdir test_conditional\n",
        "%cd test_conditional\n",
        "!mkdir projected\n",
        "!mkdir generated\n",
        "!mkdir style_mixing"
      ],
      "metadata": {
        "id": "tt6KFyINaq_q"
      },
      "execution_count": null,
      "outputs": []
    },
    {
      "cell_type": "markdown",
      "metadata": {
        "id": "_IqP4AKEwktY"
      },
      "source": [
        "# Requirements "
      ]
    },
    {
      "cell_type": "code",
      "execution_count": null,
      "metadata": {
        "id": "LzBgrkxxwYfC"
      },
      "outputs": [],
      "source": [
        "!pip uninstall jax jaxlib -y\n",
        "!pip install \"jax[cuda11_cudnn805]==0.3.10\" -f https://storage.googleapis.com/jax-releases/jax_cuda_releases.html\n",
        "!pip uninstall torch torchvision -y\n",
        "!pip install torch==1.8.1 torchvision==0.9.1\n",
        "!pip install timm==0.4.12 ftfy==6.1.1 ninja==1.10.2 opensimplex\n",
        "!pip uninstall numpy -y\n",
        "!pip install numpy==1.21.0\n",
        "!pip install imageio-ffmpeg"
      ]
    },
    {
      "cell_type": "markdown",
      "source": [
        "# First test"
      ],
      "metadata": {
        "id": "B9Vd0R8EuJHf"
      }
    },
    {
      "cell_type": "code",
      "source": [
        "%cd /content/drive/MyDrive/colab-stylegan2/stylegan2-ada-pytorch"
      ],
      "metadata": {
        "id": "F2fKMDtUvtfF"
      },
      "execution_count": null,
      "outputs": []
    },
    {
      "cell_type": "code",
      "source": [
        "!python generate.py --outdir=/content/drive/MyDrive/colab-stylegan2/stylegan2-ada-pytorch/test/generated --trunc=0.7 --seeds=600-605 --network=https://nvlabs-fi-cdn.nvidia.com/stylegan2-ada-pytorch/pretrained/metfaces.pkl"
      ],
      "metadata": {
        "id": "NKbIZFBxuyKH"
      },
      "execution_count": null,
      "outputs": []
    },
    {
      "cell_type": "code",
      "source": [
        "!python projector.py --outdir=/content/drive/MyDrive/colab-stylegan2/stylegan2-ada-pytorch/test/projected --target=/content/drive/MyDrive/colab-stylegan2/stylegan2-ada-pytorch/test/generated/seed0600.png --network=https://nvlabs-fi-cdn.nvidia.com/stylegan2-ada-pytorch/pretrained/ffhq.pkl"
      ],
      "metadata": {
        "id": "b1KzZBx3yJzM"
      },
      "execution_count": null,
      "outputs": []
    },
    {
      "cell_type": "code",
      "source": [
        "!python style_mixing.py --outdir=/content/drive/MyDrive/colab-stylegan2/stylegan2-ada-pytorch/test/style_mixing --rows=85,100,75,458,1500 --cols=55,821,1789,293 --network=https://nvlabs-fi-cdn.nvidia.com/stylegan2-ada-pytorch/pretrained/metfaces.pkl"
      ],
      "metadata": {
        "id": "jjx6CRiszjdB"
      },
      "execution_count": null,
      "outputs": []
    },
    {
      "cell_type": "markdown",
      "metadata": {
        "id": "oaMwXIPexy6F"
      },
      "source": [
        "# Dataset preparation\n",
        "## Upload a .zip of square images to the dataset folder"
      ]
    },
    {
      "cell_type": "code",
      "execution_count": null,
      "metadata": {
        "id": "59GwfNaV5p_3"
      },
      "outputs": [],
      "source": [
        "%cd /content/drive/MyDrive/colab-stylegan2/stylegan2-ada-pytorch/visuelle_ds\n",
        "!unzip /content/drive/MyDrive/styleGanUtils/VISUELLE.zip"
      ]
    },
    {
      "cell_type": "markdown",
      "metadata": {
        "id": "a3-uQf879-ia"
      },
      "source": [
        "# Dataset preparations\n",
        "- get all images\n",
        "- print the length of the dataset\n",
        "- resize all images to 256x256 resolution\n",
        "- use the dataset_tool script to convert the dataset into a format accepted by the network"
      ]
    },
    {
      "cell_type": "code",
      "execution_count": null,
      "metadata": {
        "id": "e3Bo3LuC8Qeu"
      },
      "outputs": [],
      "source": [
        "import glob\n",
        "import os\n",
        "\n",
        "# PATH = \"/content/drive/MyDrive/colab-stylegan2/stylegan2-ada-pytorch/visuelle_ds/images\"\n",
        "PATH = \"/visuelle_ds/images\"\n",
        "\n",
        "def get_images():\n",
        "    images = glob.glob(PATH + \"/**/*.png\", recursive=True)\n",
        "    print(os.getcwd())\n",
        "    return images"
      ]
    },
    {
      "cell_type": "code",
      "execution_count": null,
      "metadata": {
        "id": "kihv0ynQ9S_a"
      },
      "outputs": [],
      "source": [
        "images = get_images()\n",
        "print(f\"Length of the dataset: {len(images)}\")"
      ]
    },
    {
      "cell_type": "code",
      "execution_count": null,
      "metadata": {
        "id": "mEb-vNJD9V2z"
      },
      "outputs": [],
      "source": [
        "import cv2\n",
        "from tqdm import tqdm\n",
        "\n",
        "im_size = 256\n",
        "images_resized = []\n",
        "\n",
        "for image in tqdm(images):\n",
        "    name = image.rsplit('/')[9].rsplit('.')[0]\n",
        "    img = cv2.imread(image)\n",
        "    img = cv2.resize(img, (im_size, im_size))\n",
        "    images_resized.append(img)\n",
        "    cv2.imwrite('/content/drive/MyDrive/colab-stylegan2/stylegan2-ada-pytorch/dataset/' \n",
        "                + name + '_resized.png', img)"
      ]
    },
    {
      "cell_type": "code",
      "execution_count": null,
      "metadata": {
        "id": "Gkma51RvFJPp",
        "colab": {
          "base_uri": "https://localhost:8080/"
        },
        "outputId": "74683962-b138-4768-b8da-b60f1dd05fac"
      },
      "outputs": [
        {
          "output_type": "stream",
          "name": "stdout",
          "text": [
            "/content/drive/MyDrive/colab-stylegan2/stylegan2-ada-pytorch\n"
          ]
        }
      ],
      "source": [
        "%cd /content/drive/MyDrive/colab-stylegan2/stylegan2-ada-pytorch"
      ]
    },
    {
      "cell_type": "code",
      "execution_count": null,
      "metadata": {
        "id": "mBCOKrrMFLmn"
      },
      "outputs": [],
      "source": [
        "!python dataset_tool.py --source /content/drive/MyDrive/colab-stylegan2/stylegan2-ada-pytorch/dataset --dest /content/drive/MyDrive/colab-stylegan2/stylegan2-ada-pytorch/dataset_final"
      ]
    },
    {
      "cell_type": "markdown",
      "metadata": {
        "id": "MzeTU-a8FvNG"
      },
      "source": [
        "## Training the network with transfer learning\n",
        "- for the first 10 snaps I used the 'ffhq256' pretrained nvidia network \n",
        "- for the > snaps i used the custom network checkpoints"
      ]
    },
    {
      "cell_type": "code",
      "execution_count": null,
      "metadata": {
        "id": "rtxXIjD8X26W"
      },
      "outputs": [],
      "source": [
        "%cd /content/drive/MyDrive/colab-stylegan2/stylegan2-ada-pytorch\n",
        "!python train.py --outdir=/content/drive/MyDrive/colab-stylegan2/stylegan2-ada-pytorch/output --data=/content/drive/MyDrive/colab-stylegan2/stylegan2-ada-pytorch/dataset_final --gpus=1 --resume=/content/drive/MyDrive/colab-stylegan2/stylegan2-ada-pytorch/output/00006-dataset_final-auto1-resumecustom/network-snapshot-000120.pkl --cfg=auto --snap=2 --workers=2"
      ]
    },
    {
      "cell_type": "markdown",
      "source": [
        "## Project\n"
      ],
      "metadata": {
        "id": "wcEypA7Nntsh"
      }
    },
    {
      "cell_type": "code",
      "execution_count": null,
      "metadata": {
        "id": "hiqMMcFabYQO"
      },
      "outputs": [],
      "source": [
        "!python projector.py --outdir=/content/drive/MyDrive/colab-stylegan2/stylegan2-ada-pytorch/projected --target=/content/drive/MyDrive/colab-stylegan2/stylegan2-ada-pytorch/long_sleeve_resized.png --network=/content/drive/MyDrive/colab-stylegan2/stylegan2-ada-pytorch/output/00007-dataset_final-auto1-resumecustom/network-snapshot-000240.pkl"
      ]
    },
    {
      "cell_type": "markdown",
      "source": [
        "## Style mixing"
      ],
      "metadata": {
        "id": "w4NziSR0nwEr"
      }
    },
    {
      "cell_type": "code",
      "source": [
        "!python style_mixing.py --outdir=/content/drive/MyDrive/colab-stylegan2/stylegan2-ada-pytorch/style_mixing --rows=85,100,75,458,1500 --cols=55,821,1789,293 --network=/content/drive/MyDrive/colab-stylegan2/stylegan2-ada-pytorch/output/00007-dataset_final-auto1-resumecustom/network-snapshot-000240.pkl"
      ],
      "metadata": {
        "id": "x62upW69IIdI"
      },
      "execution_count": null,
      "outputs": []
    },
    {
      "cell_type": "markdown",
      "source": [
        "## Generate"
      ],
      "metadata": {
        "id": "HSDle1A3nyWT"
      }
    },
    {
      "cell_type": "code",
      "source": [
        "!python generate.py --outdir=/content/drive/MyDrive/colab-stylegan2/stylegan2-ada-pytorch/generated --projected-w=/content/drive/MyDrive/colab-stylegan2/stylegan2-ada-pytorch/projected/projected_w.npz --network=/content/drive/MyDrive/colab-stylegan2/stylegan2-ada-pytorch/output/00007-dataset_final-auto1-resumecustom/network-snapshot-000240.pkl"
      ],
      "metadata": {
        "id": "IhVUzyi8K5Nb"
      },
      "execution_count": null,
      "outputs": []
    },
    {
      "cell_type": "code",
      "source": [
        "%cd /content/drive/MyDrive/colab-stylegan2/stylegan2-ada-pytorch"
      ],
      "metadata": {
        "id": "Nivc3oblcQvN"
      },
      "execution_count": null,
      "outputs": []
    },
    {
      "cell_type": "code",
      "source": [
        "!python generate.py --outdir=/content/drive/MyDrive/colab-stylegan2/stylegan2-ada-pytorch/generated --seeds=85,265,297,849 --network=/content/drive/MyDrive/colab-stylegan2/stylegan2-ada-pytorch/output/00007-dataset_final-auto1-resumecustom/network-snapshot-000240.pkl"
      ],
      "metadata": {
        "id": "ou-rAF7lcEE_"
      },
      "execution_count": null,
      "outputs": []
    },
    {
      "cell_type": "markdown",
      "source": [
        "# TEST ON CONDITIONAL DATASET\n"
      ],
      "metadata": {
        "id": "kI2einhYh98s"
      }
    },
    {
      "cell_type": "markdown",
      "source": [
        "Create the dictionary containing all the categories that are included in the dataset, loading the train and the test datas"
      ],
      "metadata": {
        "id": "jc_82CDFZVE0"
      }
    },
    {
      "cell_type": "code",
      "source": [
        "import torch\n",
        "import pandas as pd\n",
        "import os\n",
        "import matplotlib.pyplot as plt\n",
        "\n",
        "## Dictionary of categories \n",
        "cat_dict = torch.load(\"/content/drive/MyDrive/colab-stylegan2/stylegan2-ada-pytorch/visuelle_ds/category_labels.pt\")\n",
        "\n",
        "## Pandas dataframe for training \n",
        "train_df = pd.read_csv(\n",
        "    os.path.join(\"/content/drive/MyDrive/colab-stylegan2/stylegan2-ada-pytorch/visuelle_ds/train.csv\")\n",
        ")\n",
        "\n",
        "## Pandas dataframe for testing \n",
        "test_df = pd.read_csv(\n",
        "    os.path.join(\"/content/drive/MyDrive/colab-stylegan2/stylegan2-ada-pytorch/visuelle_ds/test.csv\")\n",
        ")\n",
        "\n",
        "print(cat_dict)\n",
        "print()\n",
        "\n",
        "## First image with category \n",
        "print(f\"Image: {train_df.image_path[0]} -> Category: {train_df.category[0]}\")\n",
        "\n",
        "## Showing the image\n",
        "img = plt.imread(\"/content/drive/MyDrive/colab-stylegan2/stylegan2-ada-pytorch/visuelle_ds/images/\" + train_df.image_path[0])\n",
        "img = plt.imshow(img)\n",
        "plt.show()"
      ],
      "metadata": {
        "id": "dxldCmDRcr8_",
        "colab": {
          "base_uri": "https://localhost:8080/",
          "height": 340
        },
        "outputId": "dca63097-5b49-4957-a647-b3baeba658c8"
      },
      "execution_count": null,
      "outputs": [
        {
          "output_type": "stream",
          "name": "stdout",
          "text": [
            "{'capris': 0, 'cloak': 1, 'culottes': 2, 'doll dress': 3, 'drop sleeve': 4, 'gitana skirt': 5, 'kimono dress': 6, 'long cardigan': 7, 'long coat': 8, 'long dress': 9, 'long duster': 10, 'long skirt': 11, 'long sleeve': 12, 'longuette skirt': 13, 'maxi': 14, 'medium cardigan': 15, 'medium coat': 16, 'medium duster': 17, 'midi skirt': 18, 'miniskirt': 19, 'patterned': 20, 'printed': 21, 'sheath dress': 22, 'shirt dress': 23, 'short cardigan': 24, 'short coat': 25, 'short sleeves': 26, 'shorts': 27, 'sleeveless': 28, 'solid colours': 29, 'tracksuit': 30, 'trapeze dress': 31}\n",
            "\n",
            "Image: PE17/00001.png -> Category: long sleeve\n"
          ]
        },
        {
          "output_type": "display_data",
          "data": {
            "text/plain": [
              "<Figure size 432x288 with 1 Axes>"
            ],
            "image/png": "[encoded data removed]"
          },
          "metadata": {
            "needs_background": "light"
          }
        }
      ]
    },
    {
      "cell_type": "code",
      "source": [
        "img_folder = \"/content/drive/MyDrive/colab-stylegan2/stylegan2-ada-pytorch/visuelle_ds/images\""
      ],
      "metadata": {
        "id": "KQw39C_yzlB9"
      },
      "execution_count": null,
      "outputs": []
    },
    {
      "cell_type": "code",
      "source": [
        "%cd /content/drive/MyDrive/colab-stylegan2/stylegan2-ada-pytorch\n",
        "!mkdir dataset_csv\n",
        "!mkdir cond_training_output\n",
        "%cd dataset_csv\n",
        "!touch training_dataset_csv.csv\n",
        "!touch testing_dataset_csv.csv\n",
        "!touch training_dataset.json\n",
        "!touch testing_dataset.json\n",
        "!touch train.txt\n",
        "!touch test.txt"
      ],
      "metadata": {
        "id": "jOGB-mWeVg92"
      },
      "execution_count": null,
      "outputs": []
    },
    {
      "cell_type": "code",
      "source": [
        "path_testing_txt = '/content/drive/MyDrive/colab-stylegan2/stylegan2-ada-pytorch/conditional_dataset_utils/test.txt'\n",
        "path_training_txt = '/content/drive/MyDrive/colab-stylegan2/stylegan2-ada-pytorch/conditional_dataset_utils/train.txt'\n",
        "\n",
        "\n",
        "'''\n",
        " {\n",
        "        \"labels\": [\n",
        "            [\"00000/img00000000.png\",6],\n",
        "            [\"00000/img00000001.png\",9],\n",
        "            ... repeated for every image in the dataset\n",
        "            [\"00049/img00049999.png\",1]\n",
        "        ]\n",
        "    }\n",
        "'''\n",
        "\n",
        "## Subdirectories from dataset_tool.py\n",
        "k = 0\n",
        "a = '00000'\n",
        "b = '00001'\n",
        "c = '00002'\n",
        "d = '00003'\n",
        "e = '00004'\n",
        "f_ = '00005'\n",
        "\n",
        "## Test \n",
        "with open(path_testing_txt, 'w') as f:\n",
        "    for i, j in zip(test_df.image_path, test_df.category):\n",
        "\n",
        "        img_number = i.format().rsplit('/')[1].rsplit('.')[0].zfill(8)\n",
        "        number_without_zeros = img_number.lstrip('0')\n",
        "        true_number = int(number_without_zeros) - 1\n",
        "\n",
        "        row = '[\"' + f_ + '/' + 'img' + str(true_number).zfill(8) + '.png' + '\"' + ',' + str(cat_dict[j]) + '],' + '\\n'\n",
        "        f.writelines(row)\n",
        "\n",
        "## Training\n",
        "with open(path_training_txt, 'w') as f:\n",
        "    for i, j in zip(train_df.image_path, train_df.category):\n",
        "\n",
        "        if k in range(0, 1000):\n",
        "            img_number = i.format().rsplit('/')[1].rsplit('.')[0]\n",
        "\n",
        "            img_number = i.format().rsplit('/')[1].rsplit('.')[0].zfill(8)\n",
        "            number_without_zeros = img_number.lstrip('0')\n",
        "            true_number = int(number_without_zeros) - 1\n",
        "\n",
        "            row = '[\"' + a + '/' + 'img' + str(true_number).zfill(8) + '.png' + '\"' + ',' + str(cat_dict[j]) + '],' + '\\n'\n",
        "            f.writelines(row)\n",
        "\n",
        "        if k in range(1000, 2000):\n",
        "            img_number = i.format().rsplit('/')[1].rsplit('.')[0]\n",
        "\n",
        "            img_number = i.format().rsplit('/')[1].rsplit('.')[0].zfill(8)\n",
        "            number_without_zeros = img_number.lstrip('0')\n",
        "            true_number = int(number_without_zeros) - 1\n",
        "\n",
        "            row = '[\"' + b + '/' + 'img' + str(true_number).zfill(8) + '.png' + '\"' + ',' + str(cat_dict[j]) + '],' + '\\n'\n",
        "            f.writelines(row)\n",
        "\n",
        "        if k in range(2000, 3000):\n",
        "            img_number = i.format().rsplit('/')[1].rsplit('.')[0]\n",
        "\n",
        "            img_number = i.format().rsplit('/')[1].rsplit('.')[0].zfill(8)\n",
        "            number_without_zeros = img_number.lstrip('0')\n",
        "            true_number = int(number_without_zeros) - 1\n",
        "\n",
        "            row = '[\"' + c + '/' + 'img' + str(true_number).zfill(8) + '.png' + '\"' + ',' + str(cat_dict[j]) + '],' + '\\n'\n",
        "            f.writelines(row)\n",
        "\n",
        "        if k in range(3000, 4000):\n",
        "            img_number = i.format().rsplit('/')[1].rsplit('.')[0]\n",
        "\n",
        "            img_number = i.format().rsplit('/')[1].rsplit('.')[0].zfill(8)\n",
        "            number_without_zeros = img_number.lstrip('0')\n",
        "            true_number = int(number_without_zeros) - 1\n",
        "\n",
        "            row = '[\"' + d + '/' + 'img' + str(true_number).zfill(8) + '.png' + '\"' + ',' + str(cat_dict[j]) + '],' + '\\n'\n",
        "            f.writelines(row)\n",
        "\n",
        "        if k in range(4000, 5000):\n",
        "            img_number = i.format().rsplit('/')[1].rsplit('.')[0]\n",
        "\n",
        "            img_number = i.format().rsplit('/')[1].rsplit('.')[0].zfill(8)\n",
        "            number_without_zeros = img_number.lstrip('0')\n",
        "            true_number = int(number_without_zeros) - 1\n",
        "\n",
        "            row = '[\"' + e + '/' + 'img' + str(true_number).zfill(8) + '.png' + '\"' + ',' + str(cat_dict[j]) + '],' + '\\n'\n",
        "            f.writelines(row)\n",
        "\n",
        "        if k in range(5000, 5080):\n",
        "            img_number = i.format().rsplit('/')[1].rsplit('.')[0]\n",
        "\n",
        "            img_number = i.format().rsplit('/')[1].rsplit('.')[0].zfill(8)\n",
        "            number_without_zeros = img_number.lstrip('0')\n",
        "            true_number = int(number_without_zeros) - 1\n",
        "\n",
        "            row = '[\"' + f_ + '/' + 'img' + str(true_number).zfill(8) + '.png' + '\"' + ',' + str(cat_dict[j]) + '],' + '\\n'\n",
        "            f.writelines(row)\n",
        "\n",
        "        k += 1\n"
      ],
      "metadata": {
        "id": "Cy28DYQubqgp"
      },
      "execution_count": null,
      "outputs": []
    },
    {
      "cell_type": "markdown",
      "source": [
        "## Train the dataset with labels (conditional GAN)"
      ],
      "metadata": {
        "id": "iBBqiqReub4f"
      }
    },
    {
      "cell_type": "code",
      "source": [
        "%cd /content/drive/MyDrive/colab-stylegan2/stylegan2-ada-pytorch\n",
        "!python train.py --resume=/content/drive/MyDrive/colab-stylegan2/stylegan2-ada-pytorch/cond_training_output/00005-final_dataset-cond-auto1-resumecustom/network-snapshot-000100.pkl --outdir=/content/drive/MyDrive/colab-stylegan2/stylegan2-ada-pytorch/cond_training_output --data=/content/drive/MyDrive/colab-stylegan2/stylegan2-ada-pytorch/final_dataset --gpus=1  --cond=True --cfg=auto --snap=5 --workers=2"
      ],
      "metadata": {
        "id": "jf4vqspysJ1p"
      },
      "execution_count": null,
      "outputs": []
    },
    {
      "cell_type": "markdown",
      "source": [
        "# Test on conditional GAN\n",
        "\n"
      ],
      "metadata": {
        "id": "SdNjTICDbT9g"
      }
    },
    {
      "cell_type": "code",
      "source": [
        "print(f\"Classes: {cat_dict}\" + '\\n' + f\"Number of classes: {len(cat_dict)}\")"
      ],
      "metadata": {
        "id": "cIBKipvycLqO",
        "colab": {
          "base_uri": "https://localhost:8080/"
        },
        "outputId": "60412c9c-cbd6-4a9c-bf61-e2caae13e418"
      },
      "execution_count": null,
      "outputs": [
        {
          "output_type": "stream",
          "name": "stdout",
          "text": [
            "Classes: {'capris': 0, 'cloak': 1, 'culottes': 2, 'doll dress': 3, 'drop sleeve': 4, 'gitana skirt': 5, 'kimono dress': 6, 'long cardigan': 7, 'long coat': 8, 'long dress': 9, 'long duster': 10, 'long skirt': 11, 'long sleeve': 12, 'longuette skirt': 13, 'maxi': 14, 'medium cardigan': 15, 'medium coat': 16, 'medium duster': 17, 'midi skirt': 18, 'miniskirt': 19, 'patterned': 20, 'printed': 21, 'sheath dress': 22, 'shirt dress': 23, 'short cardigan': 24, 'short coat': 25, 'short sleeves': 26, 'shorts': 27, 'sleeveless': 28, 'solid colours': 29, 'tracksuit': 30, 'trapeze dress': 31}\n",
            "Number of classes: 32\n"
          ]
        }
      ]
    },
    {
      "cell_type": "markdown",
      "source": [
        "## Generate"
      ],
      "metadata": {
        "id": "a0XUzdWvCDLT"
      }
    },
    {
      "cell_type": "code",
      "source": [
        "%cd /content/drive/MyDrive/colab-stylegan2/stylegan2-ada-pytorch\n",
        "!python generate.py --outdir=/content/drive/MyDrive/colab-stylegan2/stylegan2-ada-pytorch/test_conditional/generated --trunc=1 --seeds=100 --class=10 --network=/content/drive/MyDrive/colab-stylegan2/stylegan2-ada-pytorch/cond_training_output/00006-final_dataset-cond-auto1-resumecustom/network-snapshot-000000.pkl"
      ],
      "metadata": {
        "id": "dy5eauZEb6Df"
      },
      "execution_count": null,
      "outputs": []
    },
    {
      "cell_type": "markdown",
      "source": [
        "## STYLEGAN AS A CLASSIFICATOR\n"
      ],
      "metadata": {
        "id": "AFJBbSbVhLmm"
      }
    },
    {
      "cell_type": "code",
      "source": [
        "%cd /content/drive/MyDrive/colab-stylegan2/stylegan2-ada-pytorch"
      ],
      "metadata": {
        "colab": {
          "base_uri": "https://localhost:8080/"
        },
        "id": "bsaRFdVYk9av",
        "outputId": "e18daed7-65d9-4635-970b-70d168902936"
      },
      "execution_count": null,
      "outputs": [
        {
          "output_type": "stream",
          "name": "stdout",
          "text": [
            "/content/drive/MyDrive/colab-stylegan2/stylegan2-ada-pytorch\n"
          ]
        }
      ]
    },
    {
      "cell_type": "code",
      "source": [
        "import pickle\n",
        "import torch\n",
        "\n",
        "## Load the conditional model\n",
        "file = '/content/drive/MyDrive/colab-stylegan2/stylegan2-ada-pytorch/cond_training_output/00005-final_dataset-cond-auto1-resumecustom/network-snapshot-000100.pkl'\n",
        "\n",
        "with open(file, 'rb') as f:\n",
        "    model = pickle.load(f)"
      ],
      "metadata": {
        "id": "tIk21CY-mlz8"
      },
      "execution_count": null,
      "outputs": []
    },
    {
      "cell_type": "code",
      "source": [
        "## Visualize the model\n",
        "print(model)"
      ],
      "metadata": {
        "colab": {
          "base_uri": "https://localhost:8080/"
        },
        "id": "cksQ4TfW8Mp1",
        "outputId": "b6862e9d-c5ab-4e83-a190-4c6076b4e644"
      },
      "execution_count": null,
      "outputs": [
        {
          "output_type": "stream",
          "name": "stdout",
          "text": [
            "{'training_set_kwargs': {'class_name': 'training.dataset.ImageFolderDataset', 'path': '/content/drive/MyDrive/colab-stylegan2/stylegan2-ada-pytorch/final_dataset', 'use_labels': True, 'max_size': 5577, 'xflip': False, 'resolution': 256}, 'G': Generator(\n",
            "  (synthesis): SynthesisNetwork(\n",
            "    (b4): SynthesisBlock(\n",
            "      (conv1): SynthesisLayer(\n",
            "        (affine): FullyConnectedLayer()\n",
            "      )\n",
            "      (torgb): ToRGBLayer(\n",
            "        (affine): FullyConnectedLayer()\n",
            "      )\n",
            "    )\n",
            "    (b8): SynthesisBlock(\n",
            "      (conv0): SynthesisLayer(\n",
            "        (affine): FullyConnectedLayer()\n",
            "      )\n",
            "      (conv1): SynthesisLayer(\n",
            "        (affine): FullyConnectedLayer()\n",
            "      )\n",
            "      (torgb): ToRGBLayer(\n",
            "        (affine): FullyConnectedLayer()\n",
            "      )\n",
            "    )\n",
            "    (b16): SynthesisBlock(\n",
            "      (conv0): SynthesisLayer(\n",
            "        (affine): FullyConnectedLayer()\n",
            "      )\n",
            "      (conv1): SynthesisLayer(\n",
            "        (affine): FullyConnectedLayer()\n",
            "      )\n",
            "      (torgb): ToRGBLayer(\n",
            "        (affine): FullyConnectedLayer()\n",
            "      )\n",
            "    )\n",
            "    (b32): SynthesisBlock(\n",
            "      (conv0): SynthesisLayer(\n",
            "        (affine): FullyConnectedLayer()\n",
            "      )\n",
            "      (conv1): SynthesisLayer(\n",
            "        (affine): FullyConnectedLayer()\n",
            "      )\n",
            "      (torgb): ToRGBLayer(\n",
            "        (affine): FullyConnectedLayer()\n",
            "      )\n",
            "    )\n",
            "    (b64): SynthesisBlock(\n",
            "      (conv0): SynthesisLayer(\n",
            "        (affine): FullyConnectedLayer()\n",
            "      )\n",
            "      (conv1): SynthesisLayer(\n",
            "        (affine): FullyConnectedLayer()\n",
            "      )\n",
            "      (torgb): ToRGBLayer(\n",
            "        (affine): FullyConnectedLayer()\n",
            "      )\n",
            "    )\n",
            "    (b128): SynthesisBlock(\n",
            "      (conv0): SynthesisLayer(\n",
            "        (affine): FullyConnectedLayer()\n",
            "      )\n",
            "      (conv1): SynthesisLayer(\n",
            "        (affine): FullyConnectedLayer()\n",
            "      )\n",
            "      (torgb): ToRGBLayer(\n",
            "        (affine): FullyConnectedLayer()\n",
            "      )\n",
            "    )\n",
            "    (b256): SynthesisBlock(\n",
            "      (conv0): SynthesisLayer(\n",
            "        (affine): FullyConnectedLayer()\n",
            "      )\n",
            "      (conv1): SynthesisLayer(\n",
            "        (affine): FullyConnectedLayer()\n",
            "      )\n",
            "      (torgb): ToRGBLayer(\n",
            "        (affine): FullyConnectedLayer()\n",
            "      )\n",
            "    )\n",
            "  )\n",
            "  (mapping): MappingNetwork(\n",
            "    (embed): FullyConnectedLayer()\n",
            "    (fc0): FullyConnectedLayer()\n",
            "    (fc1): FullyConnectedLayer()\n",
            "  )\n",
            "), 'D': Discriminator(\n",
            "  (b256): DiscriminatorBlock(\n",
            "    (fromrgb): Conv2dLayer()\n",
            "    (conv0): Conv2dLayer()\n",
            "    (conv1): Conv2dLayer()\n",
            "    (skip): Conv2dLayer()\n",
            "  )\n",
            "  (b128): DiscriminatorBlock(\n",
            "    (conv0): Conv2dLayer()\n",
            "    (conv1): Conv2dLayer()\n",
            "    (skip): Conv2dLayer()\n",
            "  )\n",
            "  (b64): DiscriminatorBlock(\n",
            "    (conv0): Conv2dLayer()\n",
            "    (conv1): Conv2dLayer()\n",
            "    (skip): Conv2dLayer()\n",
            "  )\n",
            "  (b32): DiscriminatorBlock(\n",
            "    (conv0): Conv2dLayer()\n",
            "    (conv1): Conv2dLayer()\n",
            "    (skip): Conv2dLayer()\n",
            "  )\n",
            "  (b16): DiscriminatorBlock(\n",
            "    (conv0): Conv2dLayer()\n",
            "    (conv1): Conv2dLayer()\n",
            "    (skip): Conv2dLayer()\n",
            "  )\n",
            "  (b8): DiscriminatorBlock(\n",
            "    (conv0): Conv2dLayer()\n",
            "    (conv1): Conv2dLayer()\n",
            "    (skip): Conv2dLayer()\n",
            "  )\n",
            "  (mapping): MappingNetwork(\n",
            "    (embed): FullyConnectedLayer()\n",
            "    (fc0): FullyConnectedLayer()\n",
            "    (fc1): FullyConnectedLayer()\n",
            "    (fc2): FullyConnectedLayer()\n",
            "    (fc3): FullyConnectedLayer()\n",
            "    (fc4): FullyConnectedLayer()\n",
            "    (fc5): FullyConnectedLayer()\n",
            "    (fc6): FullyConnectedLayer()\n",
            "    (fc7): FullyConnectedLayer()\n",
            "  )\n",
            "  (b4): DiscriminatorEpilogue(\n",
            "    (mbstd): MinibatchStdLayer()\n",
            "    (conv): Conv2dLayer()\n",
            "    (fc): FullyConnectedLayer()\n",
            "    (out): FullyConnectedLayer()\n",
            "  )\n",
            "), 'G_ema': Generator(\n",
            "  (synthesis): SynthesisNetwork(\n",
            "    (b4): SynthesisBlock(\n",
            "      (conv1): SynthesisLayer(\n",
            "        (affine): FullyConnectedLayer()\n",
            "      )\n",
            "      (torgb): ToRGBLayer(\n",
            "        (affine): FullyConnectedLayer()\n",
            "      )\n",
            "    )\n",
            "    (b8): SynthesisBlock(\n",
            "      (conv0): SynthesisLayer(\n",
            "        (affine): FullyConnectedLayer()\n",
            "      )\n",
            "      (conv1): SynthesisLayer(\n",
            "        (affine): FullyConnectedLayer()\n",
            "      )\n",
            "      (torgb): ToRGBLayer(\n",
            "        (affine): FullyConnectedLayer()\n",
            "      )\n",
            "    )\n",
            "    (b16): SynthesisBlock(\n",
            "      (conv0): SynthesisLayer(\n",
            "        (affine): FullyConnectedLayer()\n",
            "      )\n",
            "      (conv1): SynthesisLayer(\n",
            "        (affine): FullyConnectedLayer()\n",
            "      )\n",
            "      (torgb): ToRGBLayer(\n",
            "        (affine): FullyConnectedLayer()\n",
            "      )\n",
            "    )\n",
            "    (b32): SynthesisBlock(\n",
            "      (conv0): SynthesisLayer(\n",
            "        (affine): FullyConnectedLayer()\n",
            "      )\n",
            "      (conv1): SynthesisLayer(\n",
            "        (affine): FullyConnectedLayer()\n",
            "      )\n",
            "      (torgb): ToRGBLayer(\n",
            "        (affine): FullyConnectedLayer()\n",
            "      )\n",
            "    )\n",
            "    (b64): SynthesisBlock(\n",
            "      (conv0): SynthesisLayer(\n",
            "        (affine): FullyConnectedLayer()\n",
            "      )\n",
            "      (conv1): SynthesisLayer(\n",
            "        (affine): FullyConnectedLayer()\n",
            "      )\n",
            "      (torgb): ToRGBLayer(\n",
            "        (affine): FullyConnectedLayer()\n",
            "      )\n",
            "    )\n",
            "    (b128): SynthesisBlock(\n",
            "      (conv0): SynthesisLayer(\n",
            "        (affine): FullyConnectedLayer()\n",
            "      )\n",
            "      (conv1): SynthesisLayer(\n",
            "        (affine): FullyConnectedLayer()\n",
            "      )\n",
            "      (torgb): ToRGBLayer(\n",
            "        (affine): FullyConnectedLayer()\n",
            "      )\n",
            "    )\n",
            "    (b256): SynthesisBlock(\n",
            "      (conv0): SynthesisLayer(\n",
            "        (affine): FullyConnectedLayer()\n",
            "      )\n",
            "      (conv1): SynthesisLayer(\n",
            "        (affine): FullyConnectedLayer()\n",
            "      )\n",
            "      (torgb): ToRGBLayer(\n",
            "        (affine): FullyConnectedLayer()\n",
            "      )\n",
            "    )\n",
            "  )\n",
            "  (mapping): MappingNetwork(\n",
            "    (embed): FullyConnectedLayer()\n",
            "    (fc0): FullyConnectedLayer()\n",
            "    (fc1): FullyConnectedLayer()\n",
            "  )\n",
            "), 'augment_pipe': AugmentPipe()}\n"
          ]
        }
      ]
    },
    {
      "cell_type": "code",
      "source": [
        "## Get only the discriminator\n",
        "discriminator = model['D']\n",
        "print(discriminator)\n",
        "\n",
        "# for elements in discriminator.state_dict():\n",
        "#      print(elements, \"\\t\", discriminator.state_dict()[elements])"
      ],
      "metadata": {
        "id": "ChXK5G_qqWV7",
        "colab": {
          "base_uri": "https://localhost:8080/"
        },
        "outputId": "07443378-54ae-4f39-ac7a-ee043dcd08f5"
      },
      "execution_count": null,
      "outputs": [
        {
          "output_type": "stream",
          "name": "stdout",
          "text": [
            "Discriminator(\n",
            "  (b256): DiscriminatorBlock(\n",
            "    (fromrgb): Conv2dLayer()\n",
            "    (conv0): Conv2dLayer()\n",
            "    (conv1): Conv2dLayer()\n",
            "    (skip): Conv2dLayer()\n",
            "  )\n",
            "  (b128): DiscriminatorBlock(\n",
            "    (conv0): Conv2dLayer()\n",
            "    (conv1): Conv2dLayer()\n",
            "    (skip): Conv2dLayer()\n",
            "  )\n",
            "  (b64): DiscriminatorBlock(\n",
            "    (conv0): Conv2dLayer()\n",
            "    (conv1): Conv2dLayer()\n",
            "    (skip): Conv2dLayer()\n",
            "  )\n",
            "  (b32): DiscriminatorBlock(\n",
            "    (conv0): Conv2dLayer()\n",
            "    (conv1): Conv2dLayer()\n",
            "    (skip): Conv2dLayer()\n",
            "  )\n",
            "  (b16): DiscriminatorBlock(\n",
            "    (conv0): Conv2dLayer()\n",
            "    (conv1): Conv2dLayer()\n",
            "    (skip): Conv2dLayer()\n",
            "  )\n",
            "  (b8): DiscriminatorBlock(\n",
            "    (conv0): Conv2dLayer()\n",
            "    (conv1): Conv2dLayer()\n",
            "    (skip): Conv2dLayer()\n",
            "  )\n",
            "  (mapping): MappingNetwork(\n",
            "    (embed): FullyConnectedLayer()\n",
            "    (fc0): FullyConnectedLayer()\n",
            "    (fc1): FullyConnectedLayer()\n",
            "    (fc2): FullyConnectedLayer()\n",
            "    (fc3): FullyConnectedLayer()\n",
            "    (fc4): FullyConnectedLayer()\n",
            "    (fc5): FullyConnectedLayer()\n",
            "    (fc6): FullyConnectedLayer()\n",
            "    (fc7): FullyConnectedLayer()\n",
            "  )\n",
            "  (b4): DiscriminatorEpilogue(\n",
            "    (mbstd): MinibatchStdLayer()\n",
            "    (conv): Conv2dLayer()\n",
            "    (fc): FullyConnectedLayer()\n",
            "    (out): FullyConnectedLayer()\n",
            "  )\n",
            ")\n"
          ]
        }
      ]
    },
    {
      "cell_type": "code",
      "source": [
        "import cv2\n",
        "import numpy as np\n",
        "import tensorflow as tf\n",
        "import legacy\n",
        "from torch_utils import misc\n",
        "import dnnlib\n",
        "\n",
        "## Preprocess image \n",
        "input_data = '/content/drive/MyDrive/colab-stylegan2/stylegan2-ada-pytorch/long_sleeve_resized.png'\n",
        "img = cv2.imread(input_data)\n",
        "image_np = np.array(img)\n",
        "\n",
        "## Normalize\n",
        "image_np = (image_np / 255.0 - 0.5) / 0.5\n",
        "image_tensor = torch.from_numpy(image_np).float()\n",
        "image_tensor = image_tensor.unsqueeze(0)\n",
        "\n",
        "## Add dimension\n",
        "image_tensor = image_tensor.permute(0, 3, 2, 1)\n",
        "print(image_tensor.dtype)\n",
        "\n",
        "## Move to gpu\n",
        "image_tensor = image_tensor.to('cuda')"
      ],
      "metadata": {
        "id": "ViyhMQoboK4n",
        "colab": {
          "base_uri": "https://localhost:8080/"
        },
        "outputId": "f6c800a9-0f55-4852-8983-9711d8a67df0"
      },
      "execution_count": null,
      "outputs": [
        {
          "output_type": "stream",
          "name": "stdout",
          "text": [
            "torch.float32\n"
          ]
        }
      ]
    },
    {
      "cell_type": "code",
      "source": [
        "## Load the discriminator and moving it to the gpu\n",
        "D = model['D'].cuda()\n",
        "print(D)"
      ],
      "metadata": {
        "colab": {
          "base_uri": "https://localhost:8080/"
        },
        "id": "77e3fUQJSZ6H",
        "outputId": "6af6c0b0-cef3-4fd2-c75f-aa933aec54db"
      },
      "execution_count": null,
      "outputs": [
        {
          "output_type": "stream",
          "name": "stdout",
          "text": [
            "Discriminator(\n",
            "  (b256): DiscriminatorBlock(\n",
            "    (fromrgb): Conv2dLayer()\n",
            "    (conv0): Conv2dLayer()\n",
            "    (conv1): Conv2dLayer()\n",
            "    (skip): Conv2dLayer()\n",
            "  )\n",
            "  (b128): DiscriminatorBlock(\n",
            "    (conv0): Conv2dLayer()\n",
            "    (conv1): Conv2dLayer()\n",
            "    (skip): Conv2dLayer()\n",
            "  )\n",
            "  (b64): DiscriminatorBlock(\n",
            "    (conv0): Conv2dLayer()\n",
            "    (conv1): Conv2dLayer()\n",
            "    (skip): Conv2dLayer()\n",
            "  )\n",
            "  (b32): DiscriminatorBlock(\n",
            "    (conv0): Conv2dLayer()\n",
            "    (conv1): Conv2dLayer()\n",
            "    (skip): Conv2dLayer()\n",
            "  )\n",
            "  (b16): DiscriminatorBlock(\n",
            "    (conv0): Conv2dLayer()\n",
            "    (conv1): Conv2dLayer()\n",
            "    (skip): Conv2dLayer()\n",
            "  )\n",
            "  (b8): DiscriminatorBlock(\n",
            "    (conv0): Conv2dLayer()\n",
            "    (conv1): Conv2dLayer()\n",
            "    (skip): Conv2dLayer()\n",
            "  )\n",
            "  (mapping): MappingNetwork(\n",
            "    (embed): FullyConnectedLayer()\n",
            "    (fc0): FullyConnectedLayer()\n",
            "    (fc1): FullyConnectedLayer()\n",
            "    (fc2): FullyConnectedLayer()\n",
            "    (fc3): FullyConnectedLayer()\n",
            "    (fc4): FullyConnectedLayer()\n",
            "    (fc5): FullyConnectedLayer()\n",
            "    (fc6): FullyConnectedLayer()\n",
            "    (fc7): FullyConnectedLayer()\n",
            "  )\n",
            "  (b4): DiscriminatorEpilogue(\n",
            "    (mbstd): MinibatchStdLayer()\n",
            "    (conv): Conv2dLayer()\n",
            "    (fc): FullyConnectedLayer()\n",
            "    (out): FullyConnectedLayer()\n",
            "  )\n",
            ")\n"
          ]
        }
      ]
    },
    {
      "cell_type": "code",
      "source": [
        "c = torch.zeros(1, 32)\n",
        "c = c.to('cuda')\n",
        "pred = D(image_tensor, c)    \n",
        "print(pred)                 "
      ],
      "metadata": {
        "id": "9sRLlKyGhhUQ",
        "colab": {
          "base_uri": "https://localhost:8080/"
        },
        "outputId": "59d7ee6b-80dd-45bb-bd96-48e3909d6678"
      },
      "execution_count": null,
      "outputs": [
        {
          "output_type": "stream",
          "name": "stdout",
          "text": [
            "tensor([[-2.1306]], device='cuda:0')\n"
          ]
        }
      ]
    },
    {
      "cell_type": "code",
      "source": [
        "## Freeze the model\n",
        "for param in D.parameters():\n",
        "    param.requires_grad = False"
      ],
      "metadata": {
        "id": "ds62BRRdILjI"
      },
      "execution_count": null,
      "outputs": []
    },
    {
      "cell_type": "code",
      "source": [
        "print(D.state_dict().keys())"
      ],
      "metadata": {
        "colab": {
          "base_uri": "https://localhost:8080/"
        },
        "id": "f1_NPZ6rJm-U",
        "outputId": "9a01a041-2bf3-4a65-e7f8-a81a34260a5e"
      },
      "execution_count": null,
      "outputs": [
        {
          "output_type": "stream",
          "name": "stdout",
          "text": [
            "odict_keys(['b256.resample_filter', 'b256.fromrgb.weight', 'b256.fromrgb.bias', 'b256.fromrgb.resample_filter', 'b256.conv0.weight', 'b256.conv0.bias', 'b256.conv0.resample_filter', 'b256.conv1.weight', 'b256.conv1.bias', 'b256.conv1.resample_filter', 'b256.skip.weight', 'b256.skip.resample_filter', 'b128.resample_filter', 'b128.conv0.weight', 'b128.conv0.bias', 'b128.conv0.resample_filter', 'b128.conv1.weight', 'b128.conv1.bias', 'b128.conv1.resample_filter', 'b128.skip.weight', 'b128.skip.resample_filter', 'b64.resample_filter', 'b64.conv0.weight', 'b64.conv0.bias', 'b64.conv0.resample_filter', 'b64.conv1.weight', 'b64.conv1.bias', 'b64.conv1.resample_filter', 'b64.skip.weight', 'b64.skip.resample_filter', 'b32.resample_filter', 'b32.conv0.weight', 'b32.conv0.bias', 'b32.conv0.resample_filter', 'b32.conv1.weight', 'b32.conv1.bias', 'b32.conv1.resample_filter', 'b32.skip.weight', 'b32.skip.resample_filter', 'b16.resample_filter', 'b16.conv0.weight', 'b16.conv0.bias', 'b16.conv0.resample_filter', 'b16.conv1.weight', 'b16.conv1.bias', 'b16.conv1.resample_filter', 'b16.skip.weight', 'b16.skip.resample_filter', 'b8.resample_filter', 'b8.conv0.weight', 'b8.conv0.bias', 'b8.conv0.resample_filter', 'b8.conv1.weight', 'b8.conv1.bias', 'b8.conv1.resample_filter', 'b8.skip.weight', 'b8.skip.resample_filter', 'mapping.embed.weight', 'mapping.embed.bias', 'mapping.fc0.weight', 'mapping.fc0.bias', 'mapping.fc1.weight', 'mapping.fc1.bias', 'mapping.fc2.weight', 'mapping.fc2.bias', 'mapping.fc3.weight', 'mapping.fc3.bias', 'mapping.fc4.weight', 'mapping.fc4.bias', 'mapping.fc5.weight', 'mapping.fc5.bias', 'mapping.fc6.weight', 'mapping.fc6.bias', 'mapping.fc7.weight', 'mapping.fc7.bias', 'b4.conv.weight', 'b4.conv.bias', 'b4.conv.resample_filter', 'b4.fc.weight', 'b4.fc.bias', 'b4.out.weight', 'b4.out.bias'])\n"
          ]
        }
      ]
    },
    {
      "cell_type": "code",
      "source": [
        "import torch\n",
        "import torch.nn as nn\n",
        "import torch.nn.functional as F\n",
        "\n",
        "class Net(nn.Module):\n",
        "    def __init__(self):\n",
        "      super(Net, self).__init__()\n",
        "\n",
        "      # First 2D convolutional layer, taking in 1 input channel (image),\n",
        "      # outputting 32 convolutional features, with a square kernel size of 3\n",
        "      self.conv1 = nn.Conv2d(1, 32, 3, 1)\n",
        "      # Second 2D convolutional layer, taking in the 32 input layers,\n",
        "      # outputting 64 convolutional features, with a square kernel size of 3\n",
        "      self.conv2 = nn.Conv2d(32, 64, 3, 1)\n",
        "\n",
        "      # Designed to ensure that adjacent pixels are either all 0s or all active\n",
        "      # with an input probability\n",
        "      self.dropout1 = nn.Dropout2d(0.25)\n",
        "      self.dropout2 = nn.Dropout2d(0.5)\n",
        "\n",
        "      # First fully connected layer\n",
        "      self.fc1 = nn.Linear(9216, 128)\n",
        "      # Second fully connected layer that outputs our 10 labels\n",
        "      self.fc2 = nn.Linear(128, 10)\n",
        "      \n",
        "    def forward(self, x):\n",
        "      # Pass data through conv1\n",
        "      x = self.conv1(x)\n",
        "      # Use the rectified-linear activation function over x\n",
        "      x = F.relu(x)\n",
        "\n",
        "      x = self.conv2(x)\n",
        "      x = F.relu(x)\n",
        "\n",
        "      # Run max pooling over x\n",
        "      x = F.max_pool2d(x, 2)\n",
        "      # Pass data through dropout1\n",
        "      x = self.dropout1(x)\n",
        "      # Flatten x with start_dim=1\n",
        "      x = torch.flatten(x, 1)\n",
        "      # Pass data through fc1\n",
        "      x = self.fc1(x)\n",
        "      x = F.relu(x)\n",
        "      x = self.dropout2(x)\n",
        "      x = self.fc2(x)\n",
        "\n",
        "      # Apply softmax to x\n",
        "      output = F.log_softmax(x, dim=1)\n",
        "      return output\n",
        "\n",
        "my_nn = Net()\n",
        "print(my_nn)"
      ],
      "metadata": {
        "colab": {
          "base_uri": "https://localhost:8080/"
        },
        "id": "X2sV_hS3a2n1",
        "outputId": "72d08712-3978-49e7-d515-4dca2ffa9de7"
      },
      "execution_count": null,
      "outputs": [
        {
          "output_type": "stream",
          "name": "stdout",
          "text": [
            "Net(\n",
            "  (conv1): Conv2d(1, 32, kernel_size=(3, 3), stride=(1, 1))\n",
            "  (conv2): Conv2d(32, 64, kernel_size=(3, 3), stride=(1, 1))\n",
            "  (dropout1): Dropout2d(p=0.25, inplace=False)\n",
            "  (dropout2): Dropout2d(p=0.5, inplace=False)\n",
            "  (fc1): Linear(in_features=9216, out_features=128, bias=True)\n",
            "  (fc2): Linear(in_features=128, out_features=10, bias=True)\n",
            ")\n"
          ]
        }
      ]
    },
    {
      "cell_type": "code",
      "source": [
        "D.b4.out = my_nn\n",
        "print(D)"
      ],
      "metadata": {
        "colab": {
          "base_uri": "https://localhost:8080/"
        },
        "id": "XOaMkvSca0C2",
        "outputId": "5e72dfca-eee3-4630-c405-47499984e216"
      },
      "execution_count": null,
      "outputs": [
        {
          "output_type": "stream",
          "name": "stdout",
          "text": [
            "Discriminator(\n",
            "  (b256): DiscriminatorBlock(\n",
            "    (fromrgb): Conv2dLayer()\n",
            "    (conv0): Conv2dLayer()\n",
            "    (conv1): Conv2dLayer()\n",
            "    (skip): Conv2dLayer()\n",
            "  )\n",
            "  (b128): DiscriminatorBlock(\n",
            "    (conv0): Conv2dLayer()\n",
            "    (conv1): Conv2dLayer()\n",
            "    (skip): Conv2dLayer()\n",
            "  )\n",
            "  (b64): DiscriminatorBlock(\n",
            "    (conv0): Conv2dLayer()\n",
            "    (conv1): Conv2dLayer()\n",
            "    (skip): Conv2dLayer()\n",
            "  )\n",
            "  (b32): DiscriminatorBlock(\n",
            "    (conv0): Conv2dLayer()\n",
            "    (conv1): Conv2dLayer()\n",
            "    (skip): Conv2dLayer()\n",
            "  )\n",
            "  (b16): DiscriminatorBlock(\n",
            "    (conv0): Conv2dLayer()\n",
            "    (conv1): Conv2dLayer()\n",
            "    (skip): Conv2dLayer()\n",
            "  )\n",
            "  (b8): DiscriminatorBlock(\n",
            "    (conv0): Conv2dLayer()\n",
            "    (conv1): Conv2dLayer()\n",
            "    (skip): Conv2dLayer()\n",
            "  )\n",
            "  (mapping): MappingNetwork(\n",
            "    (embed): FullyConnectedLayer()\n",
            "    (fc0): FullyConnectedLayer()\n",
            "    (fc1): FullyConnectedLayer()\n",
            "    (fc2): FullyConnectedLayer()\n",
            "    (fc3): FullyConnectedLayer()\n",
            "    (fc4): FullyConnectedLayer()\n",
            "    (fc5): FullyConnectedLayer()\n",
            "    (fc6): FullyConnectedLayer()\n",
            "    (fc7): FullyConnectedLayer()\n",
            "  )\n",
            "  (b4): DiscriminatorEpilogue(\n",
            "    (mbstd): MinibatchStdLayer()\n",
            "    (conv): Conv2dLayer()\n",
            "    (fc): FullyConnectedLayer()\n",
            "    (out): Net(\n",
            "      (conv1): Conv2d(1, 32, kernel_size=(3, 3), stride=(1, 1))\n",
            "      (conv2): Conv2d(32, 64, kernel_size=(3, 3), stride=(1, 1))\n",
            "      (dropout1): Dropout2d(p=0.25, inplace=False)\n",
            "      (dropout2): Dropout2d(p=0.5, inplace=False)\n",
            "      (fc1): Linear(in_features=9216, out_features=128, bias=True)\n",
            "      (fc2): Linear(in_features=128, out_features=10, bias=True)\n",
            "    )\n",
            "  )\n",
            ")\n"
          ]
        }
      ]
    }
  ],
  "metadata": {
    "accelerator": "GPU",
    "colab": {
      "provenance": []
    },
    "gpuClass": "standard",
    "kernelspec": {
      "display_name": "Python 3",
      "name": "python3"
    },
    "language_info": {
      "name": "python"
    }
  },
  "nbformat": 4,
  "nbformat_minor": 0
}